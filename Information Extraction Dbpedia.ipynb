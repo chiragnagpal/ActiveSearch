{
 "cells": [
  {
   "cell_type": "code",
   "execution_count": 1,
   "metadata": {
    "collapsed": true
   },
   "outputs": [],
   "source": [
    "def create_graph(corpus, deep=False):\n",
    "    \n",
    "    import networkx as nx\n",
    "        \n",
    "    G = nx.Graph()\n",
    "    \n",
    "    \n",
    "    i = 0\n",
    "    for text in corpus:\n",
    "        \n",
    "        print i\n",
    "        \n",
    "        \n",
    "        try:\n",
    "            entities = spot(text)\n",
    "        \n",
    "        except Exception as e:\n",
    "            \n",
    "            print e\n",
    "            \n",
    "            \n",
    "            i+=1\n",
    "            continue\n",
    "        \n",
    "        for entity in  entities:\n",
    "            \n",
    "            #print entity.keys()\n",
    "                        \n",
    "            #G.add_edge( i, entity['URI'], weight=entity['similarityScore'] )\n",
    "            G.add_edge( text, entity['URI'], weight=entity['similarityScore'] )\n",
    "\n",
    "            if deep:\n",
    "            \n",
    "                for node in ret_second_deg(entity['URI']):\n",
    "\n",
    "                    G.add_edge(entity['URI'], node, weight=1)   \n",
    "           \n",
    "        \n",
    "        i+=1\n",
    "        \n",
    "        \n",
    "    return G"
   ]
  },
  {
   "cell_type": "code",
   "execution_count": 2,
   "metadata": {
    "collapsed": true
   },
   "outputs": [],
   "source": [
    "def load_corpus():\n",
    "    from sklearn.datasets import fetch_20newsgroups\n",
    "    newsgroups = fetch_20newsgroups(subset='all', remove=('headers','footers','quotes'))    \n",
    "    return newsgroups\n",
    "    "
   ]
  },
  {
   "cell_type": "code",
   "execution_count": 3,
   "metadata": {
    "collapsed": false
   },
   "outputs": [],
   "source": [
    "import cPickle as pkl\n",
    "\n",
    "f = open(\"graph_20news_dbpedia_all_corrected.pkl\")\n",
    "\n",
    "entity_graph = pkl.load(f)\n",
    "\n",
    "f.close()"
   ]
  },
  {
   "cell_type": "code",
   "execution_count": 4,
   "metadata": {
    "collapsed": false
   },
   "outputs": [
    {
     "name": "stdout",
     "output_type": "stream",
     "text": [
      "compose( ,  )\n"
     ]
    }
   ],
   "source": [
    "print entity_graph"
   ]
  },
  {
   "cell_type": "code",
   "execution_count": 5,
   "metadata": {
    "collapsed": false
   },
   "outputs": [
    {
     "data": {
      "text/plain": [
       "29477"
      ]
     },
     "execution_count": 5,
     "metadata": {},
     "output_type": "execute_result"
    }
   ],
   "source": [
    "len(entity_graph.nodes())"
   ]
  },
  {
   "cell_type": "code",
   "execution_count": 7,
   "metadata": {
    "collapsed": false
   },
   "outputs": [],
   "source": [
    "corpus = load_corpus()"
   ]
  },
  {
   "cell_type": "code",
   "execution_count": 6,
   "metadata": {
    "collapsed": false
   },
   "outputs": [],
   "source": [
    " def create_solver(A, ml):\n",
    "\n",
    "    ml.levels[0].A = A\n",
    "    \n",
    "    for i in range(len(ml.levels)-1):\n",
    "        \n",
    "        ml.levels[i+1].A = ml.levels[i].R * ml.levels[i].A * ml.levels[i].P \n",
    "        \n",
    "    return ml   "
   ]
  },
  {
   "cell_type": "code",
   "execution_count": 1,
   "metadata": {
    "collapsed": true
   },
   "outputs": [],
   "source": [
    "#%%cython -a\n",
    "\n",
    "class AS:\n",
    "        \n",
    "    \n",
    "    def __init__(self, A, N,eta, w, pi, lab_pos, lab_neg,lab_warm,amg):\n",
    "        \n",
    "         \n",
    "        import numpy as np\n",
    "        from scipy.sparse import coo_matrix       \n",
    "\n",
    "        from scipy.sparse import diags\n",
    "        from scipy.sparse import identity\n",
    "        self.lab_pos = lab_pos\n",
    "        \n",
    "        self.lab_neg = lab_neg\n",
    "        \n",
    "        self.lab_warm = lab_warm\n",
    "        \n",
    "        self.amg = amg\n",
    " \n",
    "        self.N = N\n",
    "        \n",
    "        self.A = A\n",
    "\n",
    "#       unlab = list( ( (set(range(N)) - set(lab_pos)) -set(lab_neg)) - set(lab_ign)  )\n",
    "\n",
    "        lab = set(lab_pos) | set(lab_neg)| set(lab_warm)\n",
    "\n",
    "        unlab = set(range(N)) - lab\n",
    "\n",
    "        #convert A to matrix\n",
    "    \n",
    "          \n",
    "       # setting D\n",
    "\n",
    "        self.D = diags(np.squeeze(np.asarray(self.A.sum(axis =1))),0)\n",
    "\n",
    "\n",
    "        #print \"D is set\"\n",
    "        #D is set\n",
    "\n",
    "        #setting B\n",
    "        self.B = np.zeros(N)\n",
    "        for i in range(N):\n",
    "\n",
    "            if i in lab:\n",
    "\n",
    "                self.B[i] = eta/(1-eta)\n",
    "            if i in unlab:\n",
    "                self.B[i] = 1./(1+w)\n",
    "\n",
    "                \n",
    "        #self.B = np.asmatrix(self.B)\n",
    "        #print \"B is set\"        \n",
    "        #B is set\n",
    "        #setting I\n",
    "        self.I = identity(N)\n",
    "        #I is set\n",
    "        #setting y\n",
    "        \n",
    "        self.y = np.zeros(N)\n",
    "        \n",
    "        for i in range(N):\n",
    "            \n",
    "            if i in lab_warm:\n",
    "\n",
    "                self.y[i] = 0.5\n",
    "            \n",
    "            if i in lab_pos:\n",
    "\n",
    "                self.y[i] = 1\n",
    "\n",
    "            if i in lab_neg:\n",
    "\n",
    "                self.y[i] = 0\n",
    "\n",
    "            if i in unlab:\n",
    "                self.y[i] = pi\n",
    "\n",
    "\t#self.y = np.asmatrix(self.y)\n",
    "\t\n",
    "        #y is set\n",
    "\n",
    "        #print \"y is set\"\n",
    "    \n",
    "\t#convert to CSR\n",
    "        print \"converting to CSR\"\n",
    "        \n",
    "        \n",
    "        self.eta = eta\n",
    "        self.w = w\n",
    "        self.pi = pi\n",
    "        #self.y = np.asmatrix(self.y)\n",
    "        if True:\n",
    "        \n",
    "        #if  self.amg:\n",
    "\n",
    "            self.A = coo_matrix(self.A)\n",
    "            self.D = coo_matrix(self.D)\n",
    "            #self.I = coo_matrix(np.identity(N))\n",
    "#           self.B = coo_matrix(self.B)\n",
    "#           self.y = coo_matrix(self.y)\n",
    "\n",
    "            self.A = self.A.tocsr()\n",
    "#           self.B = self.B.tocsr()\n",
    "            self.D = self.D.tocsr()\n",
    "#           self.y = self.y.tocsr()\n",
    "            self.I = self.I.tocsr()\n",
    "\n",
    "        print 'A:', self.A.shape\n",
    "        print 'B:', self.B.shape\n",
    "        print 'D:', self.D.shape\n",
    "        print 'y:', self.y.shape\n",
    "        print 'I:', self.I.shape\n",
    "\n",
    "        print \"converted\"\n",
    "    \n",
    "    \n",
    "    def update(self, index, label):\n",
    "        \n",
    "        #self.y = self.y.todense()\n",
    "        \n",
    "        #self.B = self.B.todense()\n",
    "        \n",
    "        \n",
    "        if label == 'pos':\n",
    "            \n",
    "            self.lab_pos = self.lab_pos+[index,]\n",
    "            \n",
    "            self.y[index] = 1\n",
    "\n",
    "        \n",
    "        else:\n",
    "            \n",
    "            self.lab_neg = self.lab_neg+[index,]\n",
    "            \n",
    "            self.y[index] = 0\n",
    "\n",
    "        \n",
    "        from scipy.sparse import csr_matrix    \n",
    "        \n",
    "        \n",
    "        \n",
    "        self.B[index] = self.eta/(1.-self.eta)\n",
    "            \n",
    "                    \n",
    "        #self.y = csr_matrix(self.y)\n",
    "        import time\n",
    "        \n",
    "        #t = time.time()\n",
    "        #self.B = csr_matrix(self.B)\n",
    "        #print \"mat conv\", time.time()-t\n",
    "        \n",
    "    def search(self, itr=False):\n",
    "        import numpy as np\n",
    "    \n",
    "\n",
    "        \n",
    "        if self.amg:\n",
    "            \n",
    "            from pyamg import ruge_stuben_solver\n",
    "            from scipy.sparse import diags\n",
    "            \n",
    "            tempB = diags([self.B.tolist()] , [0])\n",
    "            tempy = self.y\n",
    "            \n",
    "            #self.C =  (self.D *  (self.I + self.B) ) -self.A\n",
    "\n",
    "            self.C =  (self.D *  (self.I + tempB) ) -self.A\n",
    "            \n",
    "            \n",
    "            #self.H = self.D *  (tempB * self.y.T)\n",
    "\n",
    "            self.H = self.D * (tempB * tempy)\n",
    "            \n",
    "            #self.H = self.H.todense()\n",
    "            \n",
    "            self.H = np.asarray(self.H)\n",
    "\n",
    "            \n",
    "            ml = ruge_stuben_solver(self.C)\n",
    "            \n",
    "            self.ml = ml\n",
    "            \n",
    "            if  itr:\n",
    "                solution = ml.solve(self.H, tol=0.5e-8, return_residuals=True)\n",
    "                f = np.squeeze(solution[0])\n",
    "                x = solution[1]\n",
    "                \n",
    "                return (f, x)\n",
    "            \n",
    "            else:\n",
    "                f = np.squeeze(ml.solve(self.H, tol=0.5e-6))\n",
    "                return f\n",
    "                \n",
    " \n",
    "\n",
    "\n",
    "        else:\n",
    "                \n",
    "            from scipy.sparse.linalg import spsolve\n",
    "\n",
    "            self.C =  (self.D *  (self.I + self.B) ) -self.A\n",
    "\n",
    "            self.H = self.D *  np.dot(np.diag(self.B) , self.y.T)\n",
    "            \n",
    "            #self.H = self.H.todense()\n",
    "            \n",
    "            #self.H = np.asarray(self.H)\n",
    "\n",
    "            \n",
    "            #ml = ruge_stuben_solver(self.C)\n",
    "            \n",
    "            #f = np.squeeze(ml.solve(self.H, tol=1e-4))\n",
    "            \n",
    "\n",
    "            f = np.squeeze(spsolve(self.C, self.H))\n",
    "    \n",
    "            return f\n",
    "    \n",
    "    def setCH(self):\n",
    "        \n",
    "        import numpy as np\n",
    "        from pyamg import ruge_stuben_solver\n",
    "        from scipy.sparse import diags\n",
    "        \n",
    "        tempB = diags([self.B.tolist()] , [0])\n",
    "        tempy = self.y\n",
    "            \n",
    "        self.C =  (self.D *  (self.I + tempB) ) -self.A\n",
    "\n",
    "            \n",
    "            \n",
    "        self.H = self.D * (tempB * tempy)\n",
    "\n",
    "            \n",
    "        #self.H = self.H.todense()\n",
    "            \n",
    "        self.H = np.asarray(self.H)\n",
    "        \n"
   ]
  },
  {
   "cell_type": "code",
   "execution_count": 8,
   "metadata": {
    "collapsed": true
   },
   "outputs": [],
   "source": [
    "def largest_index(f, l):\n",
    "\n",
    "    l = set(l)\n",
    "    \n",
    "    \n",
    "    temp = -1.1\n",
    "    idx = -1\n",
    "\n",
    "    for i in range(len(f)):\n",
    "\n",
    "        if i not in l:\n",
    "\n",
    "            if f[i]>temp:\n",
    "                \n",
    "                temp = f[i]\n",
    "                idx = i\n",
    "            \n",
    "    return idx    "
   ]
  },
  {
   "cell_type": "code",
   "execution_count": 9,
   "metadata": {
    "collapsed": true
   },
   "outputs": [],
   "source": [
    "class labels:\n",
    "    \n",
    "    def __init__(self, pos):\n",
    "        \n",
    "        self.pos = pos\n",
    "            \n",
    "    \n",
    "    def __getitem__(self, query):\n",
    "                \n",
    "        if (query[8:]) in self.pos:\n",
    "\n",
    "            return 1\n",
    "        \n",
    "        else:\n",
    "            return 0\n",
    "        "
   ]
  },
  {
   "cell_type": "code",
   "execution_count": 10,
   "metadata": {
    "collapsed": true
   },
   "outputs": [],
   "source": [
    "def find_node(G, target):\n",
    "    \n",
    "    i = -1\n",
    "    \n",
    "    for item in G.nodes():\n",
    "        i+=1\n",
    "        if item[:5] != \"http:\":\n",
    "            \n",
    "            continue\n",
    "        \n",
    "        if target.lower() in item.lower():\n",
    "            \n",
    "            print item, i\n",
    "            \n"
   ]
  },
  {
   "cell_type": "code",
   "execution_count": 11,
   "metadata": {
    "collapsed": true
   },
   "outputs": [],
   "source": [
    "G = entity_graph"
   ]
  },
  {
   "cell_type": "code",
   "execution_count": 12,
   "metadata": {
    "collapsed": false
   },
   "outputs": [
    {
     "name": "stdout",
     "output_type": "stream",
     "text": [
      "http://dbpedia.org/resource/3D_computer_graphics 1480\n",
      "http://dbpedia.org/resource/Raster_graphics 1606\n",
      "http://dbpedia.org/resource/Graphics_Interchange_Format 8797\n",
      "http://dbpedia.org/resource/Vector_graphics 9625\n",
      "http://dbpedia.org/resource/Rendering_(computer_graphics) 11524\n",
      "http://dbpedia.org/resource/Graphics 15125\n",
      "http://dbpedia.org/resource/Computer_graphics 15298\n",
      "http://dbpedia.org/resource/Sprite_(computer_graphics) 16183\n",
      "http://dbpedia.org/resource/Video_Graphics_Array 17038\n",
      "http://dbpedia.org/resource/2D_computer_graphics 18513\n",
      "http://dbpedia.org/resource/Demographics 20900\n",
      "http://dbpedia.org/resource/Silicon_Graphics 20957\n",
      "http://dbpedia.org/resource/Graphics_processing_unit 27522\n"
     ]
    }
   ],
   "source": [
    "find_node(G, \"graphics\")"
   ]
  },
  {
   "cell_type": "code",
   "execution_count": 13,
   "metadata": {
    "collapsed": false
   },
   "outputs": [],
   "source": [
    "def search_test_new_nofb(search,G ,itr=10):\n",
    "        \n",
    "    visited = []    \n",
    "    \n",
    "    countries = []\n",
    "    \n",
    "    out = search.search()\n",
    "    \n",
    "    ml = search.ml\n",
    "    \n",
    "    tot = 0\n",
    "    \n",
    "    plot = []\n",
    "    \n",
    "    for i in range(itr):\n",
    "        \n",
    "        if i%100 ==0:\n",
    "            \n",
    "            print \"currently at itr:\", i\n",
    "        \n",
    "        \n",
    "    \n",
    "        li = largest_index(out, visited)\n",
    "        \n",
    "        visited.append(li)\n",
    "        \n",
    "        countries.append(G.nodes()[li])\n",
    "    \n",
    "\n",
    "        \n",
    "    return countries, out\n"
   ]
  },
  {
   "cell_type": "code",
   "execution_count": 15,
   "metadata": {
    "collapsed": false
   },
   "outputs": [
    {
     "name": "stdout",
     "output_type": "stream",
     "text": [
      "converting to CSR\n",
      "A: (29477, 29477)\n",
      "B: (29477,)\n",
      "D: (29477, 29477)\n",
      "y: (29477,)\n",
      "I: (29477, 29477)\n",
      "converted\n",
      "currently at itr: 0\n"
     ]
    }
   ],
   "source": [
    "import networkx as nx\n",
    "A = nx.adjacency_matrix(G)\n",
    "\n",
    "N = len(A.todense())\n",
    "eta =0.5\n",
    "w = .0000000000001/N\n",
    "pi = 0.2\n",
    "\n",
    "\n",
    "l_pos=[12936]\n",
    "l_neg=[]\n",
    "l_warm=[]\n",
    "\n",
    "\n",
    "search = AS(A, N, eta, w, pi ,l_pos, l_neg, l_warm, amg=True)\n",
    "output = search_test_new_nofb(search,G ,itr=20)"
   ]
  },
  {
   "cell_type": "code",
   "execution_count": 14,
   "metadata": {
    "collapsed": false
   },
   "outputs": [],
   "source": [
    "#from matplotlib import pyplot as plt"
   ]
  },
  {
   "cell_type": "markdown",
   "metadata": {},
   "source": [
    "## OS & Open Source"
   ]
  },
  {
   "cell_type": "code",
   "execution_count": 16,
   "metadata": {
    "collapsed": false
   },
   "outputs": [
    {
     "name": "stdout",
     "output_type": "stream",
     "text": [
      "converting to CSR\n",
      "A: (29477, 29477)\n",
      "B: (29477,)\n",
      "D: (29477, 29477)\n",
      "y: (29477,)\n",
      "I: (29477, 29477)\n",
      "converted\n",
      "currently at itr: 0\n"
     ]
    },
    {
     "data": {
      "image/png": "[encoded data removed]",
      "text/plain": [
       "<matplotlib.figure.Figure at 0xfb17a50>"
      ]
     },
     "metadata": {},
     "output_type": "display_data"
    }
   ],
   "source": [
    "%matplotlib inline\n",
    "from matplotlib import pyplot as plt\n",
    "import networkx as nx\n",
    "\n",
    "A = nx.adjacency_matrix(G)\n",
    "\n",
    "eta = 0.5\n",
    "\n",
    "plt.figure(figsize=(8,6))\n",
    "mgs = []\n",
    "\n",
    "for i in range(1):\n",
    "\n",
    "\n",
    "    N = len(A.todense())\n",
    "    w = 1./N\n",
    "    pi = 0.2\n",
    "\n",
    "    l_pos=[13575,21477]\n",
    "    l_neg=[]\n",
    "    #l_neg=[19337]\n",
    "    l_warm=[]\n",
    "\n",
    "\n",
    "    search = AS(A, N, eta, w, pi ,l_pos, l_neg, l_warm, amg=True)\n",
    "    output, out = search_test_new_nofb(search,G ,itr=1)\n",
    "    \n",
    "    eta= eta-0.08\n",
    "\n",
    "%matplotlib inline\n",
    "os = [15535,1566,8891,15739,18143,18145,18332,23831,25400,10644,12128,21769,25110]\n",
    "names = ['linux', 'vista', 'wmob', 'nt', 'win8', 'win7', 'mswin', 'win95', 'winxp','macos','mac','unix','bsd']\n",
    "\n",
    "plt.bar(range(len(os)),[out[i] for i in os ], 0.35)\n",
    "plt.xticks(range(len(os)), names,size=15, rotation=75)\n",
    "plt.xlim(0,12.5)\n",
    "plt.ylim(0.1995,0.202)\n",
    "plt.tight_layout()\n"
   ]
  },
  {
   "cell_type": "code",
   "execution_count": 22,
   "metadata": {
    "collapsed": false
   },
   "outputs": [
    {
     "name": "stdout",
     "output_type": "stream",
     "text": [
      "0.200077236827\n"
     ]
    },
    {
     "data": {
      "image/png": "[encoded data removed]",
      "text/plain": [
       "<matplotlib.figure.Figure at 0x2eafa90>"
      ]
     },
     "metadata": {},
     "output_type": "display_data"
    }
   ],
   "source": [
    "#IMPACT FACTOR!\n",
    "\n",
    "import numpy as np\n",
    "\n",
    "os = [15535,1566,8891,15739,18143,18145,18332,23831,25400,10644,12128,21769,25110]\n",
    "names = ['linux', 'vista', 'wmob', 'nt', 'win8', 'win7', 'mswin', 'win95', 'winxp','macos','mac','unix','bsd']\n",
    "\n",
    "print np.mean(out)\n",
    "\n",
    "plt.bar(range(len(os)),[out[i] - np.mean(out) for i in os ], 0.35)\n",
    "plt.xticks(range(len(os)), names,size=15, rotation=75)\n",
    "plt.xlim(0,12.5)\n",
    "#plt.ylim(0.1995,0.202)\n",
    "plt.tight_layout()\n"
   ]
  },
  {
   "cell_type": "markdown",
   "metadata": {},
   "source": [
    "## OS and Apple"
   ]
  },
  {
   "cell_type": "code",
   "execution_count": 39,
   "metadata": {
    "collapsed": false
   },
   "outputs": [
    {
     "name": "stdout",
     "output_type": "stream",
     "text": [
      "http://dbpedia.org/resource/Fedora_(operating_system) 2245\n",
      "http://dbpedia.org/resource/Solaris_(operating_system) 3533\n",
      "http://dbpedia.org/resource/Android_(operating_system) 5510\n",
      "http://dbpedia.org/resource/Chief_operating_officer 10795\n",
      "http://dbpedia.org/resource/Southern_(train_operating_company) 23993\n",
      "http://dbpedia.org/resource/Operating_system 24265\n"
     ]
    }
   ],
   "source": [
    "find_node(G, \"operating\")"
   ]
  },
  {
   "cell_type": "code",
   "execution_count": 40,
   "metadata": {
    "collapsed": false
   },
   "outputs": [
    {
     "name": "stdout",
     "output_type": "stream",
     "text": [
      "converting to CSR\n",
      "A: (29477, 29477)\n",
      "B: (29477,)\n",
      "D: (29477, 29477)\n",
      "y: (29477,)\n",
      "I: (29477, 29477)\n",
      "converted\n",
      "currently at itr: 0\n"
     ]
    },
    {
     "data": {
      "image/png": "[encoded data removed]",
      "text/plain": [
       "<matplotlib.figure.Figure at 0x13fc16d0>"
      ]
     },
     "metadata": {},
     "output_type": "display_data"
    }
   ],
   "source": [
    "eta = 0.5\n",
    "\n",
    "plt.figure(figsize=(8,6))\n",
    "\n",
    "mgs = []\n",
    "\n",
    "for i in range(1):\n",
    "\n",
    "    N = len(A.todense())\n",
    "    w = 1./N\n",
    "    pi = 0.2\n",
    "\n",
    "    l_pos=[19337,24265]\n",
    "    l_neg=[]\n",
    "    #l_neg=[19337]\n",
    "    l_warm=[]\n",
    "\n",
    "\n",
    "    search = AS(A, N, eta, w, pi ,l_pos, l_neg, l_warm, amg=True)\n",
    "    output, out = search_test_new_nofb(search,G ,itr=1)\n",
    "    \n",
    "    eta= eta-0.08\n",
    "\n",
    "%matplotlib inline\n",
    "os = [15535,1566,8891,15739,18143,18145,18332,23831,25400,10644,12128,21769,25110]\n",
    "names = ['linux', 'vista', 'wmob', 'nt', 'win8', 'win7', 'mswin', 'win95', 'winxp','macos','mac','unix','bsd']\n",
    "\n",
    "plt.bar(range(len(os)),[out[i] for i in os ], 0.35)\n",
    "plt.xticks(range(len(os)), names,size=15, rotation=75)\n",
    "\n",
    "plt.ylim(0.198,0.205)\n",
    "plt.xlim(0,12.5)\n",
    "\n",
    "plt.tight_layout()\n"
   ]
  },
  {
   "cell_type": "code",
   "execution_count": 41,
   "metadata": {
    "collapsed": false
   },
   "outputs": [
    {
     "data": {
      "image/png": "[encoded data removed]",
      "text/plain": [
       "<matplotlib.figure.Figure at 0xe5a7750>"
      ]
     },
     "metadata": {},
     "output_type": "display_data"
    }
   ],
   "source": [
    "#impact factor\n",
    "%matplotlib inline\n",
    "os = [15535,1566,8891,15739,18143,18145,18332,23831,25400,10644,12128,21769,25110]\n",
    "names = ['linux', 'vista', 'wmob', 'nt', 'win8', 'win7', 'mswin', 'win95', 'winxp','macos','mac','unix','bsd']\n",
    "\n",
    "plt.bar(range(len(os)),[out[i] - np.mean(out) for i in os ], 0.35)\n",
    "plt.xticks(range(len(os)), names,size=15, rotation=75)\n",
    "\n",
    "#plt.ylim(0.198,0.205)\n",
    "plt.xlim(0,12.5)\n",
    "\n",
    "plt.tight_layout()\n",
    "\n"
   ]
  },
  {
   "cell_type": "code",
   "execution_count": 69,
   "metadata": {
    "collapsed": false
   },
   "outputs": [
    {
     "name": "stdout",
     "output_type": "stream",
     "text": [
      "27508\n"
     ]
    }
   ],
   "source": [
    "na = np.array([  (i - np.mean(out)) for i in out])\n",
    "na[l_pos+l_neg] = 0\n",
    "na[20274] = 0\n",
    "na[6762] = 0\n",
    "na[20867] = 0\n",
    "na[23871] = 0\n",
    "na[27954] = 0\n",
    "na[19535] = 0\n",
    "na[24973] = 0\n",
    "\n",
    "print np.argmax(na)\n"
   ]
  },
  {
   "cell_type": "code",
   "execution_count": 70,
   "metadata": {
    "collapsed": false
   },
   "outputs": [
    {
     "name": "stdout",
     "output_type": "stream",
     "text": [
      "Is there anybody who has (or can point me in the right direction) any\n",
      "information about protected mode? Also interested in protected mode viewed from\n",
      "a OS point of view. {u'http://dbpedia.org/resource/Operating_system': {'weight': 1.0}}\n"
     ]
    }
   ],
   "source": [
    "print G.nodes()[np.argmax(na)], G[G.nodes()[np.argmax(na)]]"
   ]
  },
  {
   "cell_type": "markdown",
   "metadata": {},
   "source": [
    "## OS and Gaming"
   ]
  },
  {
   "cell_type": "code",
   "execution_count": 80,
   "metadata": {
    "collapsed": false
   },
   "outputs": [
    {
     "name": "stdout",
     "output_type": "stream",
     "text": [
      "converting to CSR\n",
      "A: (29477, 29477)\n",
      "B: (29477,)\n",
      "D: (29477, 29477)\n",
      "y: (29477,)\n",
      "I: (29477, 29477)\n",
      "converted\n",
      "currently at itr: 0\n"
     ]
    },
    {
     "data": {
      "image/png": "[encoded data removed]",
      "text/plain": [
       "<matplotlib.figure.Figure at 0x13f75350>"
      ]
     },
     "metadata": {},
     "output_type": "display_data"
    }
   ],
   "source": [
    "eta = 0.5\n",
    "\n",
    "\n",
    "mgs = []\n",
    "\n",
    "for i in range(1):\n",
    "\n",
    "    N = len(A.todense())\n",
    "    w = 1./N\n",
    "    pi = 0.2\n",
    "\n",
    "    l_pos=[4562,]\n",
    "    l_neg=[]\n",
    "    #l_neg=[19337]\n",
    "    l_warm=[]\n",
    "\n",
    "\n",
    "    search = AS(A, N, eta, w, pi ,l_pos, l_neg, l_warm, amg=True)\n",
    "    output, out = search_test_new_nofb(search,G ,itr=1)\n",
    "    \n",
    "    eta= eta-0.08\n",
    "\n",
    "%matplotlib inline\n",
    "os = [15535,1566,8891,15739,18143,18145,18332,23831,25400,10644,12128,21769,25110]\n",
    "plt.bar(range(len(os)),[out[i] for i in os ], 0.35)\n",
    "plt.xticks(range(len(os)), names,size=15, rotation=75)\n",
    "\n",
    "plt.ylim(0.19,0.21)\n",
    "plt.xlim(0,12.5)\n",
    "\n",
    "plt.tight_layout()\n"
   ]
  },
  {
   "cell_type": "code",
   "execution_count": 81,
   "metadata": {
    "collapsed": false
   },
   "outputs": [
    {
     "data": {
      "image/png": "[encoded data removed]",
      "text/plain": [
       "<matplotlib.figure.Figure at 0x13fa4c10>"
      ]
     },
     "metadata": {},
     "output_type": "display_data"
    }
   ],
   "source": [
    "%matplotlib inline\n",
    "os = [15535,1566,8891,15739,18143,18145,18332,23831,25400,10644,12128,21769,25110]\n",
    "plt.bar(range(len(os)),[out[i] - np.mean(out) for i in os ], 0.35)\n",
    "plt.xticks(range(len(os)), names,size=15, rotation=75)\n",
    "\n",
    "#plt.ylim(0.19995,0.2001)\n",
    "plt.xlim(0,12.5)\n",
    "\n",
    "plt.tight_layout()\n"
   ]
  },
  {
   "cell_type": "code",
   "execution_count": 16,
   "metadata": {
    "collapsed": false
   },
   "outputs": [
    {
     "name": "stdout",
     "output_type": "stream",
     "text": [
      "http://dbpedia.org/resource/Video_game_publisher 2860\n",
      "http://dbpedia.org/resource/Racing_video_game 3141\n",
      "http://dbpedia.org/resource/Puzzle_video_game 3508\n",
      "http://dbpedia.org/resource/Side-scrolling_video_game 4479\n",
      "http://dbpedia.org/resource/Video_game 4562\n",
      "http://dbpedia.org/resource/Mod_(video_gaming) 5682\n",
      "http://dbpedia.org/resource/Music_video 5736\n",
      "http://dbpedia.org/resource/Video 7751\n",
      "http://dbpedia.org/resource/Single-player_video_game 8807\n",
      "http://dbpedia.org/resource/List_of_Sonic_the_Hedgehog_video_game_characters 10137\n",
      "http://dbpedia.org/resource/Final_Fantasy_(video_game) 13031\n",
      "http://dbpedia.org/resource/Video_on_demand 14363\n",
      "http://dbpedia.org/resource/Video_Graphics_Array 17038\n",
      "http://dbpedia.org/resource/DVD-Video 17458\n",
      "http://dbpedia.org/resource/Doom_(video_game) 17958\n",
      "http://dbpedia.org/resource/MTV_Video_Music_Award 19093\n",
      "http://dbpedia.org/resource/Boss_(video_gaming) 19442\n",
      "http://dbpedia.org/resource/Videotape 20206\n",
      "http://dbpedia.org/resource/Digital_video_recorder 21432\n",
      "http://dbpedia.org/resource/Role-playing_video_game 21487\n",
      "http://dbpedia.org/resource/Video_game_remake 23263\n",
      "http://dbpedia.org/resource/Video_game_console 23493\n",
      "http://dbpedia.org/resource/Diablo_(video_game) 23606\n",
      "http://dbpedia.org/resource/Video_card 24169\n",
      "http://dbpedia.org/resource/Videocassette_recorder 25781\n",
      "http://dbpedia.org/resource/Video_game_developer 26132\n",
      "http://dbpedia.org/resource/Videoconferencing 27371\n",
      "http://dbpedia.org/resource/High-definition_video 27516\n",
      "http://dbpedia.org/resource/Video_game_music 28072\n"
     ]
    }
   ],
   "source": [
    "find_node(G, \"video\")"
   ]
  },
  {
   "cell_type": "markdown",
   "metadata": {},
   "source": [
    "# OS and Gaming Normalised"
   ]
  },
  {
   "cell_type": "code",
   "execution_count": 82,
   "metadata": {
    "collapsed": false
   },
   "outputs": [
    {
     "name": "stdout",
     "output_type": "stream",
     "text": [
      "converting to CSR\n",
      "A: (29477, 29477)\n",
      "B: (29477,)\n",
      "D: (29477, 29477)\n",
      "y: (29477,)\n",
      "I: (29477, 29477)\n",
      "converted\n",
      "currently at itr: 0\n",
      "converting to CSR\n",
      "A: (29477, 29477)\n",
      "B: (29477,)\n",
      "D: (29477, 29477)\n",
      "y: (29477,)\n",
      "I: (29477, 29477)\n",
      "converted\n",
      "currently at itr: 0\n"
     ]
    },
    {
     "data": {
      "text/plain": [
       "<matplotlib.text.Text at 0x15bad990>"
      ]
     },
     "execution_count": 82,
     "metadata": {},
     "output_type": "execute_result"
    },
    {
     "data": {
      "image/png": "[encoded data removed]",
      "text/plain": [
       "<matplotlib.figure.Figure at 0x14129690>"
      ]
     },
     "metadata": {},
     "output_type": "display_data"
    }
   ],
   "source": [
    "%matplotlib inline\n",
    "\n",
    "\n",
    "eta = 0.5\n",
    "N = len(A.todense())\n",
    "w = 1./N\n",
    "pi = 0.2\n",
    "\n",
    "l_pos=[2860,4562,8807,23493]\n",
    "l_neg=[]\n",
    "\n",
    "l_warm=[]\n",
    "\n",
    "\n",
    "search = AS(A, N, eta, w, pi ,l_pos, l_neg, l_warm, amg=True)\n",
    "output, out = search_test_new_nofb(search,G ,itr=1)\n",
    "    \n",
    "os = [15535,1566,8891,15739,18143,18145,18332,23831,25400,10644,12128,21769,25110]\n",
    "names = ['linux', 'vista', 'wmob', 'nt', 'win8', 'win7', 'mswin', 'win95', 'winxp','macos','mac','unix','bsd']\n",
    "\n",
    "vals = [out[i] for i in os ]\n",
    "\n",
    "l_pos, l_neg = l_neg, l_pos\n",
    "\n",
    "search = AS(A, N, eta, w, pi ,l_pos, l_neg, l_warm, amg=True)\n",
    "output, out = search_test_new_nofb(search,G ,itr=1)\n",
    "    \n",
    "\n",
    "vals = [(vals[i] - out[os[i]])/vals[i] for i in range(len(os)) ]\n",
    "\n",
    "\n",
    "plt.bar(range(len(os)),vals, 0.35)\n",
    "plt.xticks(range(len(os)), names,size='small')\n",
    "\n",
    "#plt.ylim(0.1995,0.2006)\n",
    "plt.title(\"Operating System and Gaming\")"
   ]
  },
  {
   "cell_type": "markdown",
   "metadata": {},
   "source": [
    "# OS and Apple Normalised"
   ]
  },
  {
   "cell_type": "code",
   "execution_count": 83,
   "metadata": {
    "collapsed": false
   },
   "outputs": [
    {
     "name": "stdout",
     "output_type": "stream",
     "text": [
      "converting to CSR\n",
      "A: (29477, 29477)\n",
      "B: (29477,)\n",
      "D: (29477, 29477)\n",
      "y: (29477,)\n",
      "I: (29477, 29477)\n",
      "converted\n",
      "currently at itr: 0\n",
      "converting to CSR\n",
      "A: (29477, 29477)\n",
      "B: (29477,)\n",
      "D: (29477, 29477)\n",
      "y: (29477,)\n",
      "I: (29477, 29477)\n",
      "converted\n",
      "currently at itr: 0\n"
     ]
    },
    {
     "data": {
      "text/plain": [
       "<matplotlib.text.Text at 0x14da5610>"
      ]
     },
     "execution_count": 83,
     "metadata": {},
     "output_type": "execute_result"
    },
    {
     "data": {
      "image/png": "[encoded data removed]",
      "text/plain": [
       "<matplotlib.figure.Figure at 0x131cf3d0>"
      ]
     },
     "metadata": {},
     "output_type": "display_data"
    }
   ],
   "source": [
    "%matplotlib inline\n",
    "\n",
    "\n",
    "eta = 0.5\n",
    "N = len(A.todense())\n",
    "w = 1./N\n",
    "pi = 0.2\n",
    "\n",
    "l_pos=[19337]\n",
    "l_neg=[]\n",
    "\n",
    "l_warm=[]\n",
    "\n",
    "\n",
    "search = AS(A, N, eta, w, pi ,l_pos, l_neg, l_warm, amg=True)\n",
    "output, out = search_test_new_nofb(search,G ,itr=1)\n",
    "    \n",
    "os = [15535,1566,8891,15739,18143,18145,18332,23831,25400,10644,12128,21769,25110]\n",
    "names = ['linux', 'vista', 'wmob', 'nt', 'win8', 'win7', 'mswin', 'win95', 'winxp','macos','mac','unix','bsd']\n",
    "\n",
    "vals = [out[i] for i in os ]\n",
    "\n",
    "l_pos, l_neg = l_neg, l_pos\n",
    "\n",
    "search = AS(A, N, eta, w, pi ,l_pos, l_neg, l_warm, amg=True)\n",
    "output, out = search_test_new_nofb(search,G ,itr=1)\n",
    "    \n",
    "\n",
    "vals = [(vals[i] - out[os[i]])/vals[i] for i in range(len(os)) ]\n",
    "\n",
    "\n",
    "plt.bar(range(len(os)),vals, 0.35)\n",
    "plt.xticks(range(len(os)), names,size='small')\n",
    "\n",
    "#plt.ylim(0.1995,0.2006)\n",
    "plt.title(\"Operating System and Apple Inc.\")"
   ]
  },
  {
   "cell_type": "markdown",
   "metadata": {},
   "source": [
    "# OS and Open Source Normalised"
   ]
  },
  {
   "cell_type": "code",
   "execution_count": 131,
   "metadata": {
    "collapsed": false
   },
   "outputs": [
    {
     "name": "stdout",
     "output_type": "stream",
     "text": [
      "converting to CSR\n",
      "A: (29477, 29477)\n",
      "B: (29477,)\n",
      "D: (29477, 29477)\n",
      "y: (29477,)\n",
      "I: (29477, 29477)\n",
      "converted\n",
      "currently at itr: 0\n",
      "converting to CSR\n",
      "A: (29477, 29477)\n",
      "B: (29477,)\n",
      "D: (29477, 29477)\n",
      "y: (29477,)\n",
      "I: (29477, 29477)\n",
      "converted\n",
      "currently at itr: 0\n"
     ]
    },
    {
     "data": {
      "text/plain": [
       "<matplotlib.text.Text at 0x18f24650>"
      ]
     },
     "execution_count": 131,
     "metadata": {},
     "output_type": "execute_result"
    },
    {
     "data": {
      "image/png": "[encoded data removed]",
      "text/plain": [
       "<matplotlib.figure.Figure at 0x17a39150>"
      ]
     },
     "metadata": {},
     "output_type": "display_data"
    }
   ],
   "source": [
    "%matplotlib inline\n",
    "\n",
    "\n",
    "eta = 0.5\n",
    "N = len(A.todense())\n",
    "w = 1./N\n",
    "pi = 0.2\n",
    "\n",
    "l_pos=[13575,21477]\n",
    "l_neg=[]\n",
    "\n",
    "l_warm=[]\n",
    "\n",
    "\n",
    "search = AS(A, N, eta, w, pi ,l_pos, l_neg, l_warm, amg=True)\n",
    "output, out = search_test_new_nofb(search,G ,itr=1)\n",
    "    \n",
    "os = [15535,1566,8891,15739,18143,18145,18332,23831,25400,10644,12128,21769,25110]\n",
    "names = ['linux', 'vista', 'wmob', 'nt', 'win8', 'win7', 'mswin', 'win95', 'winxp','macos','mac','unix','bsd']\n",
    "\n",
    "vals = [out[i] for i in os ]\n",
    "\n",
    "l_pos, l_neg = l_neg, l_pos\n",
    "\n",
    "search = AS(A, N, eta, w, pi ,l_pos, l_neg, l_warm, amg=True)\n",
    "output, out = search_test_new_nofb(search,G ,itr=1)\n",
    "    \n",
    "\n",
    "vals = [(vals[i] - out[os[i]])/vals[i] for i in range(len(os)) ]\n",
    "\n",
    "\n",
    "plt.bar(range(len(os)),vals, 0.35)\n",
    "plt.xticks(range(len(os)), names,size='small')\n",
    "\n",
    "#plt.ylim(0.1995,0.2006)\n",
    "plt.title(\"Operating System and Open Source \")"
   ]
  },
  {
   "cell_type": "code",
   "execution_count": 53,
   "metadata": {
    "collapsed": false
   },
   "outputs": [
    {
     "name": "stdout",
     "output_type": "stream",
     "text": [
      "converting to CSR\n",
      "A: (29477, 29477)\n",
      "B: (29477,)\n",
      "D: (29477, 29477)\n",
      "y: (29477,)\n",
      "I: (29477, 29477)\n",
      "converted\n",
      "currently at itr: 0\n"
     ]
    },
    {
     "data": {
      "text/plain": [
       "(0.1995, 0.2025)"
      ]
     },
     "execution_count": 53,
     "metadata": {},
     "output_type": "execute_result"
    },
    {
     "data": {
      "image/png": "[encoded data removed]",
      "text/plain": [
       "<matplotlib.figure.Figure at 0x13217a10>"
      ]
     },
     "metadata": {},
     "output_type": "display_data"
    }
   ],
   "source": [
    "%matplotlib inline\n",
    "\n",
    "\n",
    "eta = 0.5\n",
    "N = len(A.todense())\n",
    "w = 1./N\n",
    "pi = 0.2\n",
    "\n",
    "l_pos=[ 14520,11260]\n",
    "l_neg=[]\n",
    "\n",
    "l_warm=[]\n",
    "\n",
    "\n",
    "search = AS(A, N, eta, w, pi ,l_pos, l_neg, l_warm, amg=True)\n",
    "output, out = search_test_new_nofb(search,G ,itr=1)\n",
    "    \n",
    "os = [6589,6297,12052,91,19443,16784]\n",
    "names = ['phillies',  'flyers', 'yankees', 'islanders', 'red sox', 'bruins' ]\n",
    "\n",
    "vals = [out[i] for i in os ]\n",
    "\n",
    "l_pos, l_neg = l_neg, l_pos\n",
    "\n",
    "#search = AS(A, N, eta, w, pi ,l_pos, l_neg, l_warm, amg=True)\n",
    "#output, out = search_test_new_nofb(search,G ,itr=1)\n",
    "    \n",
    "\n",
    "#vals = [(vals[i] - out[os[i]])/vals[i] for i in range(len(os)) ]\n",
    "plt.figure\n",
    "\n",
    "plt.bar(range(len(os)),vals, 0.35)\n",
    "plt.xticks(range(len(os)), names,size=15, rotation=45)\n",
    "\n",
    "plt.ylim(0.1995,0.2025)\n"
   ]
  },
  {
   "cell_type": "code",
   "execution_count": 83,
   "metadata": {
    "collapsed": false
   },
   "outputs": [
    {
     "name": "stdout",
     "output_type": "stream",
     "text": [
      "converting to CSR\n",
      "A: (29477, 29477)\n",
      "B: (29477,)\n",
      "D: (29477, 29477)\n",
      "y: (29477,)\n",
      "I: (29477, 29477)\n",
      "converted\n",
      "currently at itr: 0\n",
      "converting to CSR\n",
      "A: (29477, 29477)\n",
      "B: (29477,)\n",
      "D: (29477, 29477)\n",
      "y: (29477,)\n",
      "I: (29477, 29477)\n",
      "converted\n",
      "currently at itr: 0\n"
     ]
    },
    {
     "data": {
      "text/plain": [
       "<Container object of 6 artists>"
      ]
     },
     "execution_count": 83,
     "metadata": {},
     "output_type": "execute_result"
    },
    {
     "data": {
      "image/png": "[encoded data removed]",
      "text/plain": [
       "<matplotlib.figure.Figure at 0x14f55bd0>"
      ]
     },
     "metadata": {},
     "output_type": "display_data"
    }
   ],
   "source": [
    "%matplotlib inline\n",
    "\n",
    "\n",
    "eta = 0.5\n",
    "N = len(A.todense())\n",
    "w = 1./N\n",
    "pi = 0.2\n",
    "\n",
    "l_pos=[11260]\n",
    "l_neg=[]\n",
    "\n",
    "l_warm=[]\n",
    "\n",
    "\n",
    "search = AS(A, N, eta, w, pi ,l_pos, l_neg, l_warm, amg=True)\n",
    "output, out = search_test_new_nofb(search,G ,itr=1)\n",
    "    \n",
    "os = [6589,6297,12052,91,19443,16784]\n",
    "names = ['phillies',  'flyers', 'yankees', 'islanders', 'red sox', 'bruins' ]\n",
    "\n",
    "vals = [out[i] for i in os ]\n",
    "\n",
    "l_pos, l_neg = l_neg, l_pos\n",
    "\n",
    "search = AS(A, N, eta, w, pi ,l_pos, l_neg, l_warm, amg=True)\n",
    "output, out = search_test_new_nofb(search,G ,itr=1)\n",
    "    \n",
    "\n",
    "vals = [(vals[i] - out[os[i]])/vals[i] for i in range(len(os)) ]\n",
    "plt.xticks(range(len(os)), names,size=15, rotation=45)\n",
    "\n",
    "\n",
    "plt.bar(range(len(os)),vals, 0.35)\n",
    "\n",
    "#plt.ylim(0.1998,0.2010)\n"
   ]
  },
  {
   "cell_type": "code",
   "execution_count": 110,
   "metadata": {
    "collapsed": false
   },
   "outputs": [
    {
     "name": "stdout",
     "output_type": "stream",
     "text": [
      "converting to CSR\n",
      "A: (29477, 29477)\n",
      "B: (29477,)\n",
      "D: (29477, 29477)\n",
      "y: (29477,)\n",
      "I: (29477, 29477)\n",
      "converted\n",
      "currently at itr: 0\n"
     ]
    },
    {
     "data": {
      "text/plain": [
       "<Container object of 6 artists>"
      ]
     },
     "execution_count": 110,
     "metadata": {},
     "output_type": "execute_result"
    },
    {
     "data": {
      "image/png": "[encoded data removed]",
      "text/plain": [
       "<matplotlib.figure.Figure at 0xfea2290>"
      ]
     },
     "metadata": {},
     "output_type": "display_data"
    }
   ],
   "source": [
    "%matplotlib inline\n",
    "\n",
    "\n",
    "eta = 0.5\n",
    "N = len(A.todense())\n",
    "w = 1./N\n",
    "pi = 0.2\n",
    "\n",
    "l_pos=[91]\n",
    "#l_pos = []\n",
    "l_neg=[]\n",
    "\n",
    "l_warm=[]\n",
    "\n",
    "\n",
    "search = AS(A, N, eta, w, pi ,l_pos, l_neg, l_warm, amg=True)\n",
    "output, out = search_test_new_nofb(search,G ,itr=1)\n",
    "    \n",
    "os = [6589,6297,12052,91,19443,16784]\n",
    "names = ['phillies',  'flyers', 'yankees', 'islanders', 'red sox', 'bruins' ]\n",
    "\n",
    "vals = [out[i] for i in os ]\n",
    "plt.xticks(range(len(os)), names,size=15, rotation=45)\n",
    "#plt.ylim(0.1998,0.2010)\n",
    "plt.bar(range(len(os)),[val - np.mean(vals) for val in vals], 0.35)\n"
   ]
  },
  {
   "cell_type": "code",
   "execution_count": 114,
   "metadata": {
    "collapsed": false
   },
   "outputs": [],
   "source": [
    "#find_node(G, \"york\")"
   ]
  },
  {
   "cell_type": "code",
   "execution_count": 112,
   "metadata": {
    "collapsed": false
   },
   "outputs": [],
   "source": [
    "def IF(out, labelled):\n",
    "    import numpy as np\n",
    "    \n",
    "    out = np.delete(out, labelled)\n",
    "    return np.sum(out*(1-out))"
   ]
  },
  {
   "cell_type": "code",
   "execution_count": 115,
   "metadata": {
    "collapsed": false
   },
   "outputs": [
    {
     "name": "stdout",
     "output_type": "stream",
     "text": [
      "1.03099496084\n"
     ]
    }
   ],
   "source": [
    "print IF(vals, l_pos+l_neg)"
   ]
  },
  {
   "cell_type": "code",
   "execution_count": 197,
   "metadata": {
    "collapsed": false
   },
   "outputs": [
    {
     "name": "stdout",
     "output_type": "stream",
     "text": [
      "http://dbpedia.org/resource/New_York_Islanders 91\n",
      "http://dbpedia.org/resource/Cape_York_Peninsula 240\n",
      "http://dbpedia.org/resource/New_York_Knicks 1200\n",
      "http://dbpedia.org/resource/Ithaca,_New_York 1426\n",
      "http://dbpedia.org/resource/New_York_Jets 1782\n",
      "http://dbpedia.org/resource/York 2289\n",
      "http://dbpedia.org/resource/Buffalo,_New_York 2867\n",
      "http://dbpedia.org/resource/Hudson,_New_York 3691\n",
      "http://dbpedia.org/resource/New_York_metropolitan_area 4809\n",
      "http://dbpedia.org/resource/Binghamton,_New_York 4842\n",
      "http://dbpedia.org/resource/Monroe_County,_New_York 5711\n",
      "http://dbpedia.org/resource/New_York_Mets 6199\n",
      "http://dbpedia.org/resource/Westchester_County,_New_York 7145\n",
      "http://dbpedia.org/resource/The_New_York_Times 7347\n",
      "http://dbpedia.org/resource/Western_New_York 7766\n",
      "http://dbpedia.org/resource/Port_Authority_of_New_York_and_New_Jersey 8005\n",
      "http://dbpedia.org/resource/Albany,_New_York 8334\n",
      "http://dbpedia.org/resource/Lake_Placid,_New_York 8462\n",
      "http://dbpedia.org/resource/York,_Pennsylvania 8655\n",
      "http://dbpedia.org/resource/Yorkshire 9059\n",
      "http://dbpedia.org/resource/Siege_of_Yorktown 9595\n",
      "http://dbpedia.org/resource/New_York_(magazine) 9861\n",
      "http://dbpedia.org/resource/New_York_Stock_Exchange 10023\n",
      "http://dbpedia.org/resource/Syracuse,_New_York 10358\n",
      "http://dbpedia.org/resource/Utica,_New_York 10567\n",
      "http://dbpedia.org/resource/New_York_City 11260\n",
      "http://dbpedia.org/resource/New_York_University_School_of_Law 11443\n",
      "http://dbpedia.org/resource/New_York_City_Police_Department 11577\n",
      "http://dbpedia.org/resource/Oswego,_New_York 11591\n",
      "http://dbpedia.org/resource/New_York_Yankees 12052\n",
      "http://dbpedia.org/resource/Nassau_County,_New_York 13406\n",
      "http://dbpedia.org/resource/New_York 14703\n",
      "http://dbpedia.org/resource/Lancashire_and_Yorkshire_Railway 15129\n",
      "http://dbpedia.org/resource/Broadway_(New_York_City) 16250\n",
      "http://dbpedia.org/resource/University_at_Buffalo,_The_State_University_of_New_York 17587\n",
      "http://dbpedia.org/resource/United_States_District_Court_for_the_Southern_District_of_New_York 17899\n",
      "http://dbpedia.org/resource/New_York_Rangers 17941\n",
      "http://dbpedia.org/resource/The_New_Yorker 18630\n",
      "http://dbpedia.org/resource/New_York_University 19245\n",
      "http://dbpedia.org/resource/Rochester,_New_York 19448\n",
      "http://dbpedia.org/resource/New_York_Giants 20342\n",
      "http://dbpedia.org/resource/Troy,_New_York 20579\n",
      "http://dbpedia.org/resource/Rockland_County,_New_York 20982\n",
      "http://dbpedia.org/resource/Metropolitan_Transportation_Authority_(New_York) 25294\n",
      "http://dbpedia.org/resource/York_Racecourse 26622\n",
      "http://dbpedia.org/resource/Administrative_divisions_of_New_York 26767\n",
      "http://dbpedia.org/resource/New_York_Philharmonic 27564\n",
      "http://dbpedia.org/resource/Daily_News_(New_York) 27682\n",
      "http://dbpedia.org/resource/State_University_of_New_York 27751\n",
      "http://dbpedia.org/resource/City_University_of_New_York 28085\n",
      "http://dbpedia.org/resource/New_York_Court_of_Appeals 29090\n",
      "http://dbpedia.org/resource/York_University 29092\n",
      "http://dbpedia.org/resource/Schenectady,_New_York 29398\n"
     ]
    }
   ],
   "source": [
    "find_node(G, \"york\")"
   ]
  },
  {
   "cell_type": "code",
   "execution_count": 204,
   "metadata": {
    "collapsed": false
   },
   "outputs": [
    {
     "name": "stdout",
     "output_type": "stream",
     "text": [
      "http://dbpedia.org/resource/Ice_hockey\n",
      "http://dbpedia.org/resource/New_York_City\n"
     ]
    }
   ],
   "source": [
    "print G.nodes()[ 23314]\n",
    "print G.nodes()[11260]"
   ]
  },
  {
   "cell_type": "code",
   "execution_count": 115,
   "metadata": {
    "collapsed": false,
    "scrolled": true
   },
   "outputs": [
    {
     "name": "stdout",
     "output_type": "stream",
     "text": [
      "converting to CSR\n",
      "A: (29477, 29477)\n",
      "B: (29477,)\n",
      "D: (29477, 29477)\n",
      "y: (29477,)\n",
      "I: (29477, 29477)\n",
      "converted\n",
      "currently at itr: 0\n",
      "converting to CSR\n",
      "A: (29477, 29477)\n",
      "B: (29477,)\n",
      "D: (29477, 29477)\n",
      "y: (29477,)\n",
      "I: (29477, 29477)\n",
      "converted\n",
      "currently at itr: 0\n"
     ]
    },
    {
     "data": {
      "text/plain": [
       "<matplotlib.text.Text at 0x15dfadd0>"
      ]
     },
     "execution_count": 115,
     "metadata": {},
     "output_type": "execute_result"
    },
    {
     "data": {
      "image/png": "[encoded data removed]",
      "text/plain": [
       "<matplotlib.figure.Figure at 0x15892190>"
      ]
     },
     "metadata": {},
     "output_type": "display_data"
    }
   ],
   "source": [
    "%matplotlib inline\n",
    "\n",
    "\n",
    "eta = 0.5\n",
    "N = len(A.todense())\n",
    "w = 1./N\n",
    "pi = 0.2\n",
    "\n",
    "l_pos=[13960]\n",
    "l_neg=[15305]\n",
    "\n",
    "l_warm=[]\n",
    "\n",
    "\n",
    "search = AS(A, N, eta, w, pi ,l_pos, l_neg, l_warm, amg=True)\n",
    "output, out = search_test_new_nofb(search,G ,itr=1)\n",
    "    \n",
    "os = [15150,4292,13881,8570,16402,12692,15471,21828,10597,1439,17623]\n",
    "names = ['obama', 'GWB', 'clinton','GHWB','reagan','carter','ford','nixon','johnson','kennedy','eisenhover']\n",
    "\n",
    "vals = [out[i] for i in os ]\n",
    "\n",
    "l_pos, l_neg = l_neg, l_pos\n",
    "\n",
    "search = AS(A, N, eta, w, pi ,l_pos, l_neg, l_warm, amg=True)\n",
    "output, out = search_test_new_nofb(search,G ,itr=1)\n",
    "    \n",
    "\n",
    "vals = [(vals[i] - out[os[i]])/vals[i] for i in range(len(os)) ]\n",
    "\n",
    "\n",
    "plt.bar(range(len(os)),vals, 0.35)\n",
    "plt.xticks(range(len(os)), names,size='small')\n",
    "\n",
    "#plt.ylim(0.1995,0.2006)\n",
    "plt.title(\"Democrats vs Republics\")"
   ]
  },
  {
   "cell_type": "code",
   "execution_count": 107,
   "metadata": {
    "collapsed": false
   },
   "outputs": [
    {
     "name": "stdout",
     "output_type": "stream",
     "text": [
      "http://dbpedia.org/resource/Barack_Obama obama\n",
      "http://dbpedia.org/resource/George_W._Bush GWB\n",
      "http://dbpedia.org/resource/Bill_Clinton clinton\n",
      "http://dbpedia.org/resource/George_H._W._Bush GHWB\n",
      "http://dbpedia.org/resource/Ronald_Reagan reagan\n",
      "http://dbpedia.org/resource/Jimmy_Carter carter\n",
      "http://dbpedia.org/resource/Gerald_Ford ford\n",
      "http://dbpedia.org/resource/Richard_Nixon nixon\n",
      "http://dbpedia.org/resource/Lyndon_B._Johnson johnson\n",
      "http://dbpedia.org/resource/John_F._Kennedy kennedy\n",
      "http://dbpedia.org/resource/Dwight_D._Eisenhower eisenhover\n"
     ]
    }
   ],
   "source": [
    "n = 0\n",
    "for item in os:\n",
    "    print G.nodes()[item],  names[n]\n",
    "    n+=1"
   ]
  },
  {
   "cell_type": "code",
   "execution_count": 24,
   "metadata": {
    "collapsed": false
   },
   "outputs": [
    {
     "data": {
      "text/plain": [
       "0.2000009828374506"
      ]
     },
     "execution_count": 24,
     "metadata": {},
     "output_type": "execute_result"
    }
   ],
   "source": [
    "out[10644]"
   ]
  },
  {
   "cell_type": "code",
   "execution_count": 25,
   "metadata": {
    "collapsed": false
   },
   "outputs": [
    {
     "data": {
      "text/plain": [
       "(0.195, 0.205)"
      ]
     },
     "execution_count": 25,
     "metadata": {},
     "output_type": "execute_result"
    },
    {
     "data": {
      "image/png": "[encoded data removed]",
      "text/plain": [
       "<matplotlib.figure.Figure at 0xf71cb90>"
      ]
     },
     "metadata": {},
     "output_type": "display_data"
    }
   ],
   "source": [
    "os = [15535,1566,8891,15739,18143,18145,18332,23831,25400,10644,12128,21769,25110]\n",
    "names = ['linux', 'vista', 'winmob', 'nt', 'win8', 'win7', 'mswin', 'win95', 'winxp','macos','mac','unix','bsd']\n",
    "\n",
    "plt.bar(range(len(os)),[out[i] for i in os ])\n",
    "plt.xticks(range(len(os)), names)\n",
    "\n",
    "plt.ylim(0.195,0.205)"
   ]
  },
  {
   "cell_type": "code",
   "execution_count": null,
   "metadata": {
    "collapsed": true
   },
   "outputs": [],
   "source": []
  },
  {
   "cell_type": "code",
   "execution_count": null,
   "metadata": {
    "collapsed": true
   },
   "outputs": [],
   "source": []
  }
 ],
 "metadata": {
  "kernelspec": {
   "display_name": "Python 2",
   "language": "python",
   "name": "python2"
  },
  "language_info": {
   "codemirror_mode": {
    "name": "ipython",
    "version": 2
   },
   "file_extension": ".py",
   "mimetype": "text/x-python",
   "name": "python",
   "nbconvert_exporter": "python",
   "pygments_lexer": "ipython2",
   "version": "2.7.8"
  }
 },
 "nbformat": 4,
 "nbformat_minor": 0
}
